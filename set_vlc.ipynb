{
 "cells": [
  {
   "cell_type": "code",
   "execution_count": 1,
   "id": "7f708ad9",
   "metadata": {},
   "outputs": [
    {
     "name": "stdout",
     "output_type": "stream",
     "text": [
      "Collecting python-vlc\n",
      "  Downloading python_vlc-3.0.18122-py3-none-any.whl (79 kB)\n",
      "     ---------------------------------------- 79.9/79.9 kB 2.2 MB/s eta 0:00:00\n",
      "Installing collected packages: python-vlc\n",
      "Successfully installed python-vlc-3.0.18122\n",
      "Note: you may need to restart the kernel to use updated packages.\n"
     ]
    }
   ],
   "source": [
    "pip install python-vlc"
   ]
  },
  {
   "cell_type": "code",
   "execution_count": 2,
   "id": "9b47d96c",
   "metadata": {},
   "outputs": [
    {
     "name": "stdout",
     "output_type": "stream",
     "text": [
      "Name: python-vlc\n",
      "Version: 3.0.18122\n",
      "Summary: VLC bindings for python.\n",
      "Home-page: http://wiki.videolan.org/PythonBinding\n",
      "Author: Olivier Aubert\n",
      "Author-email: contact@olivieraubert.net\n",
      "License: LGPL-2.1+\n",
      "Location: c:\\users\\pc34\\anaconda3\\lib\\site-packages\n",
      "Requires: \n",
      "Required-by: \n",
      "Note: you may need to restart the kernel to use updated packages.\n"
     ]
    }
   ],
   "source": [
    "pip show python-vlc"
   ]
  },
  {
   "cell_type": "code",
   "execution_count": null,
   "id": "2fcbe2cb",
   "metadata": {},
   "outputs": [],
   "source": []
  }
 ],
 "metadata": {
  "kernelspec": {
   "display_name": "Python 3 (ipykernel)",
   "language": "python",
   "name": "python3"
  },
  "language_info": {
   "codemirror_mode": {
    "name": "ipython",
    "version": 3
   },
   "file_extension": ".py",
   "mimetype": "text/x-python",
   "name": "python",
   "nbconvert_exporter": "python",
   "pygments_lexer": "ipython3",
   "version": "3.10.9"
  }
 },
 "nbformat": 4,
 "nbformat_minor": 5
}
